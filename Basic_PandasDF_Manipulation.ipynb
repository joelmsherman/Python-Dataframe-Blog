{
 "cells": [
  {
   "cell_type": "markdown",
   "metadata": {},
   "source": [
    "# Basic Pandas Dataframe Manipulation\n",
    "\n",
    "Pandas is widely regarded as one of Python's most used libraries for data science, and there are a variety of online course, youtube videos and blogs about its use.  This project and blog post is aimed at providing new Pythonistas with some of the basics of manipulating the Pandas dataframe.  I will cover the following areas:\n",
    "\n",
    "1. Examining Your Data\n",
    "2. Sorting and Subsetting\n",
    "3. Calculating Summary Statistics\n",
    "4. Creating Pivot Tables\n",
    "5. Using Explicit Indexes\n",
    "\n",
    "But first, we'll import some data.  I am a competitive cyclocross racer and track a large amount of data about my training, performance and sleep habits over time.  This dataset contains daily data on this metrics, and contains both dimension and measure columns.  "
   ]
  },
  {
   "cell_type": "code",
   "execution_count": 2,
   "metadata": {
    "scrolled": true
   },
   "outputs": [],
   "source": [
    "# Import Libraries\n",
    "\n",
    "import pandas as pd\n",
    "\n",
    "# Get the datafile from my public GitHub repo\n",
    "url = 'https://raw.githubusercontent.com/joelmsherman/explain_python-dataframe/master/HRV_Training_Sleep.csv'\n",
    "\n",
    "# Read the content and turn it into a Pandas Dataframe\n",
    "df = pd.read_csv(url, error_bad_lines=False)\n"
   ]
  },
  {
   "cell_type": "code",
   "execution_count": null,
   "metadata": {},
   "outputs": [],
   "source": []
  }
 ],
 "metadata": {
  "kernelspec": {
   "display_name": "Python 3",
   "language": "python",
   "name": "python3"
  },
  "language_info": {
   "codemirror_mode": {
    "name": "ipython",
    "version": 3
   },
   "file_extension": ".py",
   "mimetype": "text/x-python",
   "name": "python",
   "nbconvert_exporter": "python",
   "pygments_lexer": "ipython3",
   "version": "3.7.6"
  }
 },
 "nbformat": 4,
 "nbformat_minor": 4
}
